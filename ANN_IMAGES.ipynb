{
  "nbformat": 4,
  "nbformat_minor": 0,
  "metadata": {
    "colab": {
      "provenance": []
    },
    "kernelspec": {
      "name": "python3",
      "display_name": "Python 3"
    },
    "language_info": {
      "name": "python"
    }
  },
  "cells": [
    {
      "cell_type": "code",
      "execution_count": null,
      "metadata": {
        "id": "18h2pdZs2LSJ",
        "colab": {
          "base_uri": "https://localhost:8080/"
        },
        "outputId": "550abdc2-aeb8-4088-d2b8-83c0ccb667ee"
      },
      "outputs": [
        {
          "output_type": "stream",
          "name": "stdout",
          "text": [
            "Requirement already satisfied: tensorflow in /usr/local/lib/python3.10/dist-packages (2.13.0)\n",
            "Requirement already satisfied: absl-py>=1.0.0 in /usr/local/lib/python3.10/dist-packages (from tensorflow) (1.4.0)\n",
            "Requirement already satisfied: astunparse>=1.6.0 in /usr/local/lib/python3.10/dist-packages (from tensorflow) (1.6.3)\n",
            "Requirement already satisfied: flatbuffers>=23.1.21 in /usr/local/lib/python3.10/dist-packages (from tensorflow) (23.5.26)\n",
            "Requirement already satisfied: gast<=0.4.0,>=0.2.1 in /usr/local/lib/python3.10/dist-packages (from tensorflow) (0.4.0)\n",
            "Requirement already satisfied: google-pasta>=0.1.1 in /usr/local/lib/python3.10/dist-packages (from tensorflow) (0.2.0)\n",
            "Requirement already satisfied: grpcio<2.0,>=1.24.3 in /usr/local/lib/python3.10/dist-packages (from tensorflow) (1.57.0)\n",
            "Requirement already satisfied: h5py>=2.9.0 in /usr/local/lib/python3.10/dist-packages (from tensorflow) (3.9.0)\n",
            "Requirement already satisfied: keras<2.14,>=2.13.1 in /usr/local/lib/python3.10/dist-packages (from tensorflow) (2.13.1)\n",
            "Requirement already satisfied: libclang>=13.0.0 in /usr/local/lib/python3.10/dist-packages (from tensorflow) (16.0.6)\n",
            "Requirement already satisfied: numpy<=1.24.3,>=1.22 in /usr/local/lib/python3.10/dist-packages (from tensorflow) (1.23.5)\n",
            "Requirement already satisfied: opt-einsum>=2.3.2 in /usr/local/lib/python3.10/dist-packages (from tensorflow) (3.3.0)\n",
            "Requirement already satisfied: packaging in /usr/local/lib/python3.10/dist-packages (from tensorflow) (23.1)\n",
            "Requirement already satisfied: protobuf!=4.21.0,!=4.21.1,!=4.21.2,!=4.21.3,!=4.21.4,!=4.21.5,<5.0.0dev,>=3.20.3 in /usr/local/lib/python3.10/dist-packages (from tensorflow) (3.20.3)\n",
            "Requirement already satisfied: setuptools in /usr/local/lib/python3.10/dist-packages (from tensorflow) (67.7.2)\n",
            "Requirement already satisfied: six>=1.12.0 in /usr/local/lib/python3.10/dist-packages (from tensorflow) (1.16.0)\n",
            "Requirement already satisfied: tensorboard<2.14,>=2.13 in /usr/local/lib/python3.10/dist-packages (from tensorflow) (2.13.0)\n",
            "Requirement already satisfied: tensorflow-estimator<2.14,>=2.13.0 in /usr/local/lib/python3.10/dist-packages (from tensorflow) (2.13.0)\n",
            "Requirement already satisfied: termcolor>=1.1.0 in /usr/local/lib/python3.10/dist-packages (from tensorflow) (2.3.0)\n",
            "Requirement already satisfied: typing-extensions<4.6.0,>=3.6.6 in /usr/local/lib/python3.10/dist-packages (from tensorflow) (4.5.0)\n",
            "Requirement already satisfied: wrapt>=1.11.0 in /usr/local/lib/python3.10/dist-packages (from tensorflow) (1.15.0)\n",
            "Requirement already satisfied: tensorflow-io-gcs-filesystem>=0.23.1 in /usr/local/lib/python3.10/dist-packages (from tensorflow) (0.33.0)\n",
            "Requirement already satisfied: wheel<1.0,>=0.23.0 in /usr/local/lib/python3.10/dist-packages (from astunparse>=1.6.0->tensorflow) (0.41.2)\n",
            "Requirement already satisfied: google-auth<3,>=1.6.3 in /usr/local/lib/python3.10/dist-packages (from tensorboard<2.14,>=2.13->tensorflow) (2.17.3)\n",
            "Requirement already satisfied: google-auth-oauthlib<1.1,>=0.5 in /usr/local/lib/python3.10/dist-packages (from tensorboard<2.14,>=2.13->tensorflow) (1.0.0)\n",
            "Requirement already satisfied: markdown>=2.6.8 in /usr/local/lib/python3.10/dist-packages (from tensorboard<2.14,>=2.13->tensorflow) (3.4.4)\n",
            "Requirement already satisfied: requests<3,>=2.21.0 in /usr/local/lib/python3.10/dist-packages (from tensorboard<2.14,>=2.13->tensorflow) (2.31.0)\n",
            "Requirement already satisfied: tensorboard-data-server<0.8.0,>=0.7.0 in /usr/local/lib/python3.10/dist-packages (from tensorboard<2.14,>=2.13->tensorflow) (0.7.1)\n",
            "Requirement already satisfied: werkzeug>=1.0.1 in /usr/local/lib/python3.10/dist-packages (from tensorboard<2.14,>=2.13->tensorflow) (2.3.7)\n",
            "Requirement already satisfied: cachetools<6.0,>=2.0.0 in /usr/local/lib/python3.10/dist-packages (from google-auth<3,>=1.6.3->tensorboard<2.14,>=2.13->tensorflow) (5.3.1)\n",
            "Requirement already satisfied: pyasn1-modules>=0.2.1 in /usr/local/lib/python3.10/dist-packages (from google-auth<3,>=1.6.3->tensorboard<2.14,>=2.13->tensorflow) (0.3.0)\n",
            "Requirement already satisfied: rsa<5,>=3.1.4 in /usr/local/lib/python3.10/dist-packages (from google-auth<3,>=1.6.3->tensorboard<2.14,>=2.13->tensorflow) (4.9)\n",
            "Requirement already satisfied: requests-oauthlib>=0.7.0 in /usr/local/lib/python3.10/dist-packages (from google-auth-oauthlib<1.1,>=0.5->tensorboard<2.14,>=2.13->tensorflow) (1.3.1)\n",
            "Requirement already satisfied: charset-normalizer<4,>=2 in /usr/local/lib/python3.10/dist-packages (from requests<3,>=2.21.0->tensorboard<2.14,>=2.13->tensorflow) (3.2.0)\n",
            "Requirement already satisfied: idna<4,>=2.5 in /usr/local/lib/python3.10/dist-packages (from requests<3,>=2.21.0->tensorboard<2.14,>=2.13->tensorflow) (3.4)\n",
            "Requirement already satisfied: urllib3<3,>=1.21.1 in /usr/local/lib/python3.10/dist-packages (from requests<3,>=2.21.0->tensorboard<2.14,>=2.13->tensorflow) (2.0.4)\n",
            "Requirement already satisfied: certifi>=2017.4.17 in /usr/local/lib/python3.10/dist-packages (from requests<3,>=2.21.0->tensorboard<2.14,>=2.13->tensorflow) (2023.7.22)\n",
            "Requirement already satisfied: MarkupSafe>=2.1.1 in /usr/local/lib/python3.10/dist-packages (from werkzeug>=1.0.1->tensorboard<2.14,>=2.13->tensorflow) (2.1.3)\n",
            "Requirement already satisfied: pyasn1<0.6.0,>=0.4.6 in /usr/local/lib/python3.10/dist-packages (from pyasn1-modules>=0.2.1->google-auth<3,>=1.6.3->tensorboard<2.14,>=2.13->tensorflow) (0.5.0)\n",
            "Requirement already satisfied: oauthlib>=3.0.0 in /usr/local/lib/python3.10/dist-packages (from requests-oauthlib>=0.7.0->google-auth-oauthlib<1.1,>=0.5->tensorboard<2.14,>=2.13->tensorflow) (3.2.2)\n"
          ]
        }
      ],
      "source": [
        "!pip install tensorflow\n",
        "from tensorflow import keras\n",
        "from tensorflow.keras import Sequential, Model\n",
        "from tensorflow.keras.layers import Dense, Flatten, Add, Input, BatchNormalization\n",
        "from tensorflow.keras.optimizers import Adam"
      ]
    },
    {
      "cell_type": "code",
      "source": [
        "(x_train, y_train), (x_test, y_test) = keras.datasets.mnist.load_data()"
      ],
      "metadata": {
        "colab": {
          "base_uri": "https://localhost:8080/"
        },
        "id": "XYoAzUVbGdRB",
        "outputId": "6fde5e40-d701-41b4-c5a6-7ce522f33a85"
      },
      "execution_count": null,
      "outputs": [
        {
          "output_type": "stream",
          "name": "stdout",
          "text": [
            "Downloading data from https://storage.googleapis.com/tensorflow/tf-keras-datasets/mnist.npz\n",
            "11490434/11490434 [==============================] - 0s 0us/step\n"
          ]
        }
      ]
    },
    {
      "cell_type": "code",
      "source": [
        "x_train[0].shape"
      ],
      "metadata": {
        "colab": {
          "base_uri": "https://localhost:8080/"
        },
        "id": "FXnOqiQmG0ny",
        "outputId": "bc6a1306-8abc-4eab-dfd4-b691a80fb2df"
      },
      "execution_count": null,
      "outputs": [
        {
          "output_type": "execute_result",
          "data": {
            "text/plain": [
              "(28, 28)"
            ]
          },
          "metadata": {},
          "execution_count": 4
        }
      ]
    },
    {
      "cell_type": "code",
      "source": [
        "import matplotlib.pyplot as plt\n",
        "plt.imshow(x_train[5])"
      ],
      "metadata": {
        "colab": {
          "base_uri": "https://localhost:8080/",
          "height": 447
        },
        "id": "CcFHZwRdG220",
        "outputId": "73ddb1bb-7b01-42d1-fb89-3e4f3ce2b118"
      },
      "execution_count": null,
      "outputs": [
        {
          "output_type": "execute_result",
          "data": {
            "text/plain": [
              "<matplotlib.image.AxesImage at 0x7d822746e950>"
            ]
          },
          "metadata": {},
          "execution_count": 5
        },
        {
          "output_type": "display_data",
          "data": {
            "text/plain": [
              "<Figure size 640x480 with 1 Axes>"
            ],
            "image/png": "[encoded data removed]"
          },
          "metadata": {}
        }
      ]
    },
    {
      "cell_type": "code",
      "source": [
        "#for faster convergence, bringing all values to the same range 0-1\n",
        "x_train = x_train/255\n",
        "x_test = x_test/255"
      ],
      "metadata": {
        "id": "QgMEs1PAICJv"
      },
      "execution_count": null,
      "outputs": []
    },
    {
      "cell_type": "code",
      "source": [
        "model = Sequential()\n",
        "model.add(Flatten(input_shape = (28,28)))\n",
        "model.add(Dense(128, activation = 'relu'))\n",
        "model.add(BatchNormalization())\n",
        "model.add(Dense(10, activation = 'softmax'))"
      ],
      "metadata": {
        "id": "ZX9XjIWBKSM4"
      },
      "execution_count": null,
      "outputs": []
    },
    {
      "cell_type": "code",
      "source": [
        "model.summary()"
      ],
      "metadata": {
        "colab": {
          "base_uri": "https://localhost:8080/"
        },
        "id": "lMlFRaE7MhxJ",
        "outputId": "66686cec-5f2d-4dd1-ef44-45b0eb1d145f"
      },
      "execution_count": null,
      "outputs": [
        {
          "output_type": "stream",
          "name": "stdout",
          "text": [
            "Model: \"sequential\"\n",
            "_________________________________________________________________\n",
            " Layer (type)                Output Shape              Param #   \n",
            "=================================================================\n",
            " flatten (Flatten)           (None, 784)               0         \n",
            "                                                                 \n",
            " dense (Dense)               (None, 128)               100480    \n",
            "                                                                 \n",
            " batch_normalization (Batch  (None, 128)               512       \n",
            " Normalization)                                                  \n",
            "                                                                 \n",
            " dense_1 (Dense)             (None, 10)                1290      \n",
            "                                                                 \n",
            "=================================================================\n",
            "Total params: 102282 (399.54 KB)\n",
            "Trainable params: 102026 (398.54 KB)\n",
            "Non-trainable params: 256 (1.00 KB)\n",
            "_________________________________________________________________\n"
          ]
        }
      ]
    },
    {
      "cell_type": "code",
      "source": [
        "model.compile(loss = 'sparse_categorical_crossentropy', optimizer = 'Adam', metrics = ['accuracy']) #for using categorical cross entropy, need to one-hot encode the classes"
      ],
      "metadata": {
        "id": "iFXS2NlQMifs"
      },
      "execution_count": null,
      "outputs": []
    },
    {
      "cell_type": "code",
      "source": [
        "model.fit(x_train, y_train, epochs = 10, validation_split = 0.2)"
      ],
      "metadata": {
        "colab": {
          "base_uri": "https://localhost:8080/"
        },
        "id": "-RhsmtsmM-fO",
        "outputId": "dd5962ba-13c7-4998-a77c-0c055f76b019"
      },
      "execution_count": null,
      "outputs": [
        {
          "output_type": "stream",
          "name": "stdout",
          "text": [
            "Epoch 1/10\n",
            "1500/1500 [==============================] - 15s 9ms/step - loss: 0.2532 - accuracy: 0.9254 - val_loss: 0.1314 - val_accuracy: 0.9623\n",
            "Epoch 2/10\n",
            "1500/1500 [==============================] - 6s 4ms/step - loss: 0.1225 - accuracy: 0.9636 - val_loss: 0.1015 - val_accuracy: 0.9703\n",
            "Epoch 3/10\n",
            "1500/1500 [==============================] - 7s 5ms/step - loss: 0.0906 - accuracy: 0.9727 - val_loss: 0.1086 - val_accuracy: 0.9691\n",
            "Epoch 4/10\n",
            "1500/1500 [==============================] - 12s 8ms/step - loss: 0.0751 - accuracy: 0.9775 - val_loss: 0.1022 - val_accuracy: 0.9722\n",
            "Epoch 5/10\n",
            "1500/1500 [==============================] - 8s 5ms/step - loss: 0.0625 - accuracy: 0.9807 - val_loss: 0.0899 - val_accuracy: 0.9743\n",
            "Epoch 6/10\n",
            "1500/1500 [==============================] - 6s 4ms/step - loss: 0.0530 - accuracy: 0.9828 - val_loss: 0.0898 - val_accuracy: 0.9746\n",
            "Epoch 7/10\n",
            "1500/1500 [==============================] - 6s 4ms/step - loss: 0.0453 - accuracy: 0.9855 - val_loss: 0.0936 - val_accuracy: 0.9753\n",
            "Epoch 8/10\n",
            "1500/1500 [==============================] - 7s 4ms/step - loss: 0.0401 - accuracy: 0.9872 - val_loss: 0.0968 - val_accuracy: 0.9730\n",
            "Epoch 9/10\n",
            "1500/1500 [==============================] - 5s 4ms/step - loss: 0.0412 - accuracy: 0.9864 - val_loss: 0.0931 - val_accuracy: 0.9748\n",
            "Epoch 10/10\n",
            "1500/1500 [==============================] - 7s 4ms/step - loss: 0.0349 - accuracy: 0.9882 - val_loss: 0.0937 - val_accuracy: 0.9756\n"
          ]
        },
        {
          "output_type": "execute_result",
          "data": {
            "text/plain": [
              "<keras.src.callbacks.History at 0x7d8224294f10>"
            ]
          },
          "metadata": {},
          "execution_count": 10
        }
      ]
    },
    {
      "cell_type": "code",
      "source": [
        "y_prob = model.predict(x_test)"
      ],
      "metadata": {
        "colab": {
          "base_uri": "https://localhost:8080/"
        },
        "id": "hT8CgsXJNVbP",
        "outputId": "d21479ce-c606-4742-d4df-1550edee8c1f"
      },
      "execution_count": null,
      "outputs": [
        {
          "output_type": "stream",
          "name": "stdout",
          "text": [
            "313/313 [==============================] - 1s 2ms/step\n"
          ]
        }
      ]
    },
    {
      "cell_type": "code",
      "source": [
        "y_pred = y_prob.argmax(axis = 1)"
      ],
      "metadata": {
        "id": "B4yiUG1yNx2l"
      },
      "execution_count": null,
      "outputs": []
    },
    {
      "cell_type": "code",
      "source": [
        "from sklearn.metrics import accuracy_score\n",
        "accuracy_score(y_test, y_pred)"
      ],
      "metadata": {
        "colab": {
          "base_uri": "https://localhost:8080/"
        },
        "id": "_WAWrfuUN8jm",
        "outputId": "603fd969-0173-431d-951b-00dd4633cc84"
      },
      "execution_count": null,
      "outputs": [
        {
          "output_type": "execute_result",
          "data": {
            "text/plain": [
              "0.9759"
            ]
          },
          "metadata": {},
          "execution_count": 13
        }
      ]
    },
    {
      "cell_type": "code",
      "source": [
        "model2 = Sequential()\n",
        "model2.add(Flatten(input_shape = (28,28)))\n",
        "model2.add(Dense(128, activation = 'relu'))\n",
        "model2.add(Dense(32, activation = 'relu'))\n",
        "model2.add(Dense(10, activation = 'softmax'))"
      ],
      "metadata": {
        "id": "x022CAFsOCUN"
      },
      "execution_count": null,
      "outputs": []
    },
    {
      "cell_type": "code",
      "source": [
        "model2.summary()"
      ],
      "metadata": {
        "colab": {
          "base_uri": "https://localhost:8080/"
        },
        "id": "hTvIRnEzOuxb",
        "outputId": "ca7b7518-c162-47b1-e6a9-ef8757814f8d"
      },
      "execution_count": null,
      "outputs": [
        {
          "output_type": "stream",
          "name": "stdout",
          "text": [
            "Model: \"sequential_1\"\n",
            "_________________________________________________________________\n",
            " Layer (type)                Output Shape              Param #   \n",
            "=================================================================\n",
            " flatten_1 (Flatten)         (None, 784)               0         \n",
            "                                                                 \n",
            " dense_2 (Dense)             (None, 128)               100480    \n",
            "                                                                 \n",
            " dense_3 (Dense)             (None, 32)                4128      \n",
            "                                                                 \n",
            " dense_4 (Dense)             (None, 10)                330       \n",
            "                                                                 \n",
            "=================================================================\n",
            "Total params: 104938 (409.91 KB)\n",
            "Trainable params: 104938 (409.91 KB)\n",
            "Non-trainable params: 0 (0.00 Byte)\n",
            "_________________________________________________________________\n"
          ]
        }
      ]
    },
    {
      "cell_type": "code",
      "source": [
        "model2.compile(loss = 'sparse_categorical_crossentropy', optimizer = 'Adam', metrics = ['accuracy']) #for using categorical cross entropy, need to one-hot encode the classes"
      ],
      "metadata": {
        "id": "vmj9UWR4Ov3l"
      },
      "execution_count": null,
      "outputs": []
    },
    {
      "cell_type": "code",
      "source": [
        "history = model2.fit(x_train, y_train, epochs = 25, validation_split = 0.2)"
      ],
      "metadata": {
        "colab": {
          "base_uri": "https://localhost:8080/"
        },
        "id": "LuFNnVIpO2If",
        "outputId": "41e3d9f9-eeea-44a9-a84b-b4c930844242"
      },
      "execution_count": null,
      "outputs": [
        {
          "output_type": "stream",
          "name": "stdout",
          "text": [
            "Epoch 1/25\n",
            "1500/1500 [==============================] - 7s 4ms/step - loss: 0.2862 - accuracy: 0.9175 - val_loss: 0.1399 - val_accuracy: 0.9580\n",
            "Epoch 2/25\n",
            "1500/1500 [==============================] - 5s 3ms/step - loss: 0.1187 - accuracy: 0.9648 - val_loss: 0.1182 - val_accuracy: 0.9642\n",
            "Epoch 3/25\n",
            "1500/1500 [==============================] - 8s 5ms/step - loss: 0.0807 - accuracy: 0.9751 - val_loss: 0.1039 - val_accuracy: 0.9705\n",
            "Epoch 4/25\n",
            "1500/1500 [==============================] - 5s 3ms/step - loss: 0.0605 - accuracy: 0.9814 - val_loss: 0.0963 - val_accuracy: 0.9719\n",
            "Epoch 5/25\n",
            "1500/1500 [==============================] - 6s 4ms/step - loss: 0.0468 - accuracy: 0.9854 - val_loss: 0.0946 - val_accuracy: 0.9762\n",
            "Epoch 6/25\n",
            "1500/1500 [==============================] - 5s 3ms/step - loss: 0.0382 - accuracy: 0.9874 - val_loss: 0.1007 - val_accuracy: 0.9712\n",
            "Epoch 7/25\n",
            "1500/1500 [==============================] - 6s 4ms/step - loss: 0.0313 - accuracy: 0.9897 - val_loss: 0.0976 - val_accuracy: 0.9753\n",
            "Epoch 8/25\n",
            "1500/1500 [==============================] - 5s 3ms/step - loss: 0.0245 - accuracy: 0.9918 - val_loss: 0.1032 - val_accuracy: 0.9756\n",
            "Epoch 9/25\n",
            "1500/1500 [==============================] - 6s 4ms/step - loss: 0.0241 - accuracy: 0.9915 - val_loss: 0.1155 - val_accuracy: 0.9743\n",
            "Epoch 10/25\n",
            "1500/1500 [==============================] - 7s 5ms/step - loss: 0.0178 - accuracy: 0.9941 - val_loss: 0.1159 - val_accuracy: 0.9726\n",
            "Epoch 11/25\n",
            "1500/1500 [==============================] - 6s 4ms/step - loss: 0.0198 - accuracy: 0.9936 - val_loss: 0.1129 - val_accuracy: 0.9756\n",
            "Epoch 12/25\n",
            "1500/1500 [==============================] - 6s 4ms/step - loss: 0.0149 - accuracy: 0.9952 - val_loss: 0.1249 - val_accuracy: 0.9712\n",
            "Epoch 13/25\n",
            "1500/1500 [==============================] - 5s 3ms/step - loss: 0.0151 - accuracy: 0.9950 - val_loss: 0.1211 - val_accuracy: 0.9740\n",
            "Epoch 14/25\n",
            "1500/1500 [==============================] - 6s 4ms/step - loss: 0.0143 - accuracy: 0.9949 - val_loss: 0.1260 - val_accuracy: 0.9747\n",
            "Epoch 15/25\n",
            "1500/1500 [==============================] - 5s 4ms/step - loss: 0.0121 - accuracy: 0.9961 - val_loss: 0.1428 - val_accuracy: 0.9725\n",
            "Epoch 16/25\n",
            "1500/1500 [==============================] - 6s 4ms/step - loss: 0.0138 - accuracy: 0.9955 - val_loss: 0.1217 - val_accuracy: 0.9758\n",
            "Epoch 17/25\n",
            "1500/1500 [==============================] - 5s 3ms/step - loss: 0.0072 - accuracy: 0.9975 - val_loss: 0.1426 - val_accuracy: 0.9755\n",
            "Epoch 18/25\n",
            "1500/1500 [==============================] - 6s 4ms/step - loss: 0.0118 - accuracy: 0.9964 - val_loss: 0.1429 - val_accuracy: 0.9752\n",
            "Epoch 19/25\n",
            "1500/1500 [==============================] - 5s 4ms/step - loss: 0.0093 - accuracy: 0.9965 - val_loss: 0.1489 - val_accuracy: 0.9739\n",
            "Epoch 20/25\n",
            "1500/1500 [==============================] - 6s 4ms/step - loss: 0.0117 - accuracy: 0.9960 - val_loss: 0.1494 - val_accuracy: 0.9750\n",
            "Epoch 21/25\n",
            "1500/1500 [==============================] - 5s 4ms/step - loss: 0.0072 - accuracy: 0.9978 - val_loss: 0.1583 - val_accuracy: 0.9727\n",
            "Epoch 22/25\n",
            "1500/1500 [==============================] - 5s 4ms/step - loss: 0.0093 - accuracy: 0.9970 - val_loss: 0.1344 - val_accuracy: 0.9768\n",
            "Epoch 23/25\n",
            "1500/1500 [==============================] - 6s 4ms/step - loss: 0.0101 - accuracy: 0.9969 - val_loss: 0.1678 - val_accuracy: 0.9737\n",
            "Epoch 24/25\n",
            "1500/1500 [==============================] - 5s 4ms/step - loss: 0.0085 - accuracy: 0.9973 - val_loss: 0.1634 - val_accuracy: 0.9741\n",
            "Epoch 25/25\n",
            "1500/1500 [==============================] - 6s 4ms/step - loss: 0.0085 - accuracy: 0.9974 - val_loss: 0.1792 - val_accuracy: 0.9737\n"
          ]
        }
      ]
    },
    {
      "cell_type": "code",
      "source": [
        "y_prob = model2.predict(x_test)\n",
        "y_pred = y_prob.argmax(axis = 1)\n",
        "accuracy_score(y_test, y_pred)"
      ],
      "metadata": {
        "colab": {
          "base_uri": "https://localhost:8080/"
        },
        "id": "rWpLalQBO8ot",
        "outputId": "5dbfddf0-2d71-476a-9423-ef962b08bd4a"
      },
      "execution_count": null,
      "outputs": [
        {
          "output_type": "stream",
          "name": "stdout",
          "text": [
            "313/313 [==============================] - 1s 2ms/step\n"
          ]
        },
        {
          "output_type": "execute_result",
          "data": {
            "text/plain": [
              "0.9754"
            ]
          },
          "metadata": {},
          "execution_count": 18
        }
      ]
    },
    {
      "cell_type": "code",
      "source": [
        "plt.plot(history.history['loss'])\n",
        "plt.plot(history.history['val_loss'])"
      ],
      "metadata": {
        "colab": {
          "base_uri": "https://localhost:8080/",
          "height": 452
        },
        "id": "RgUJhOF-PJOQ",
        "outputId": "410b2ca0-fb4d-4b23-a44b-8146b78619fa"
      },
      "execution_count": null,
      "outputs": [
        {
          "output_type": "execute_result",
          "data": {
            "text/plain": [
              "[<matplotlib.lines.Line2D at 0x7d81f38890f0>]"
            ]
          },
          "metadata": {},
          "execution_count": 19
        },
        {
          "output_type": "display_data",
          "data": {
            "text/plain": [
              "<Figure size 640x480 with 1 Axes>"
            ],
            "image/png": "[encoded data removed]"
          },
          "metadata": {}
        }
      ]
    },
    {
      "cell_type": "markdown",
      "source": [
        "this shows the model overfits the data"
      ],
      "metadata": {
        "id": "1fZyo5nvPpEo"
      }
    },
    {
      "cell_type": "code",
      "source": [
        "plt.plot(history.history['accuracy'])\n",
        "plt.plot(history.history['val_accuracy'])"
      ],
      "metadata": {
        "colab": {
          "base_uri": "https://localhost:8080/",
          "height": 447
        },
        "id": "0Bgikc25Pi64",
        "outputId": "4120fb66-dcc6-43de-ef28-87f4267a3a46"
      },
      "execution_count": null,
      "outputs": [
        {
          "output_type": "execute_result",
          "data": {
            "text/plain": [
              "[<matplotlib.lines.Line2D at 0x7d81f3920b20>]"
            ]
          },
          "metadata": {},
          "execution_count": 20
        },
        {
          "output_type": "display_data",
          "data": {
            "text/plain": [
              "<Figure size 640x480 with 1 Axes>"
            ],
            "image/png": "[encoded data removed]"
          },
          "metadata": {}
        }
      ]
    },
    {
      "cell_type": "code",
      "source": [
        "plt.imshow(x_test[0])"
      ],
      "metadata": {
        "colab": {
          "base_uri": "https://localhost:8080/",
          "height": 447
        },
        "id": "qCElRDLnP-kV",
        "outputId": "a26ef4ce-bac7-430d-ea76-47d347c78f95"
      },
      "execution_count": null,
      "outputs": [
        {
          "output_type": "execute_result",
          "data": {
            "text/plain": [
              "<matplotlib.image.AxesImage at 0x7d81f537ca30>"
            ]
          },
          "metadata": {},
          "execution_count": 21
        },
        {
          "output_type": "display_data",
          "data": {
            "text/plain": [
              "<Figure size 640x480 with 1 Axes>"
            ],
            "image/png": "[encoded data removed]"
          },
          "metadata": {}
        }
      ]
    },
    {
      "cell_type": "code",
      "source": [
        "model.predict(x_test[0].reshape(1,28,28)).argmax(axis = 1)"
      ],
      "metadata": {
        "colab": {
          "base_uri": "https://localhost:8080/"
        },
        "id": "t_v7louIQrnY",
        "outputId": "a1f77df0-3933-405d-baed-cb59d49df59d"
      },
      "execution_count": null,
      "outputs": [
        {
          "output_type": "stream",
          "name": "stdout",
          "text": [
            "1/1 [==============================] - 0s 22ms/step\n"
          ]
        },
        {
          "output_type": "execute_result",
          "data": {
            "text/plain": [
              "array([7])"
            ]
          },
          "metadata": {},
          "execution_count": 22
        }
      ]
    },
    {
      "cell_type": "code",
      "source": [
        "import pandas as pd"
      ],
      "metadata": {
        "id": "DgbpLCveQwxr"
      },
      "execution_count": null,
      "outputs": []
    },
    {
      "cell_type": "code",
      "source": [
        "df = pd.read_csv('/content/auto-mpg - auto-mpg.csv')"
      ],
      "metadata": {
        "id": "VdLxm1gfb5tJ"
      },
      "execution_count": null,
      "outputs": []
    },
    {
      "cell_type": "code",
      "source": [
        "df.head()"
      ],
      "metadata": {
        "colab": {
          "base_uri": "https://localhost:8080/",
          "height": 206
        },
        "id": "i8EsgyT3b7eF",
        "outputId": "9617a934-2e0e-4ede-fad8-1ef9a0e1cfa1"
      },
      "execution_count": null,
      "outputs": [
        {
          "output_type": "execute_result",
          "data": {
            "text/plain": [
              "    mpg  cylinders  displacement  ... model year  origin                   car name\n",
              "0  18.0          8         307.0  ...         70       1  chevrolet chevelle malibu\n",
              "1  15.0          8         350.0  ...         70       1          buick skylark 320\n",
              "2  18.0          8         318.0  ...         70       1         plymouth satellite\n",
              "3  16.0          8         304.0  ...         70       1              amc rebel sst\n",
              "4  17.0          8         302.0  ...         70       1                ford torino\n",
              "\n",
              "[5 rows x 9 columns]"
            ],
            "text/html": [
              "\n",
              "  <div id=\"df-5f350b2f-9df7-473c-80c2-01b7860f37ab\" class=\"colab-df-container\">\n",
              "    <div>\n",
              "<style scoped>\n",
              "    .dataframe tbody tr th:only-of-type {\n",
              "        vertical-align: middle;\n",
              "    }\n",
              "\n",
              "    .dataframe tbody tr th {\n",
              "        vertical-align: top;\n",
              "    }\n",
              "\n",
              "    .dataframe thead th {\n",
              "        text-align: right;\n",
              "    }\n",
              "</style>\n",
              "<table border=\"1\" class=\"dataframe\">\n",
              "  <thead>\n",
              "    <tr style=\"text-align: right;\">\n",
              "      <th></th>\n",
              "      <th>mpg</th>\n",
              "      <th>cylinders</th>\n",
              "      <th>displacement</th>\n",
              "      <th>horsepower</th>\n",
              "      <th>weight</th>\n",
              "      <th>acceleration</th>\n",
              "      <th>model year</th>\n",
              "      <th>origin</th>\n",
              "      <th>car name</th>\n",
              "    </tr>\n",
              "  </thead>\n",
              "  <tbody>\n",
              "    <tr>\n",
              "      <th>0</th>\n",
              "      <td>18.0</td>\n",
              "      <td>8</td>\n",
              "      <td>307.0</td>\n",
              "      <td>130</td>\n",
              "      <td>3504</td>\n",
              "      <td>12.0</td>\n",
              "      <td>70</td>\n",
              "      <td>1</td>\n",
              "      <td>chevrolet chevelle malibu</td>\n",
              "    </tr>\n",
              "    <tr>\n",
              "      <th>1</th>\n",
              "      <td>15.0</td>\n",
              "      <td>8</td>\n",
              "      <td>350.0</td>\n",
              "      <td>165</td>\n",
              "      <td>3693</td>\n",
              "      <td>11.5</td>\n",
              "      <td>70</td>\n",
              "      <td>1</td>\n",
              "      <td>buick skylark 320</td>\n",
              "    </tr>\n",
              "    <tr>\n",
              "      <th>2</th>\n",
              "      <td>18.0</td>\n",
              "      <td>8</td>\n",
              "      <td>318.0</td>\n",
              "      <td>150</td>\n",
              "      <td>3436</td>\n",
              "      <td>11.0</td>\n",
              "      <td>70</td>\n",
              "      <td>1</td>\n",
              "      <td>plymouth satellite</td>\n",
              "    </tr>\n",
              "    <tr>\n",
              "      <th>3</th>\n",
              "      <td>16.0</td>\n",
              "      <td>8</td>\n",
              "      <td>304.0</td>\n",
              "      <td>150</td>\n",
              "      <td>3433</td>\n",
              "      <td>12.0</td>\n",
              "      <td>70</td>\n",
              "      <td>1</td>\n",
              "      <td>amc rebel sst</td>\n",
              "    </tr>\n",
              "    <tr>\n",
              "      <th>4</th>\n",
              "      <td>17.0</td>\n",
              "      <td>8</td>\n",
              "      <td>302.0</td>\n",
              "      <td>140</td>\n",
              "      <td>3449</td>\n",
              "      <td>10.5</td>\n",
              "      <td>70</td>\n",
              "      <td>1</td>\n",
              "      <td>ford torino</td>\n",
              "    </tr>\n",
              "  </tbody>\n",
              "</table>\n",
              "</div>\n",
              "    <div class=\"colab-df-buttons\">\n",
              "\n",
              "  <div class=\"colab-df-container\">\n",
              "    <button class=\"colab-df-convert\" onclick=\"convertToInteractive('df-5f350b2f-9df7-473c-80c2-01b7860f37ab')\"\n",
              "            title=\"Convert this dataframe to an interactive table.\"\n",
              "            style=\"display:none;\">\n",
              "\n",
              "  <svg xmlns=\"http://www.w3.org/2000/svg\" height=\"24px\" viewBox=\"0 -960 960 960\">\n",
              "    <path d=\"M120-120v-720h720v720H120Zm60-500h600v-160H180v160Zm220 220h160v-160H400v160Zm0 220h160v-160H400v160ZM180-400h160v-160H180v160Zm440 0h160v-160H620v160ZM180-180h160v-160H180v160Zm440 0h160v-160H620v160Z\"/>\n",
              "  </svg>\n",
              "    </button>\n",
              "\n",
              "  <style>\n",
              "    .colab-df-container {\n",
              "      display:flex;\n",
              "      gap: 12px;\n",
              "    }\n",
              "\n",
              "    .colab-df-convert {\n",
              "      background-color: #E8F0FE;\n",
              "      border: none;\n",
              "      border-radius: 50%;\n",
              "      cursor: pointer;\n",
              "      display: none;\n",
              "      fill: #1967D2;\n",
              "      height: 32px;\n",
              "      padding: 0 0 0 0;\n",
              "      width: 32px;\n",
              "    }\n",
              "\n",
              "    .colab-df-convert:hover {\n",
              "      background-color: #E2EBFA;\n",
              "      box-shadow: 0px 1px 2px rgba(60, 64, 67, 0.3), 0px 1px 3px 1px rgba(60, 64, 67, 0.15);\n",
              "      fill: #174EA6;\n",
              "    }\n",
              "\n",
              "    .colab-df-buttons div {\n",
              "      margin-bottom: 4px;\n",
              "    }\n",
              "\n",
              "    [theme=dark] .colab-df-convert {\n",
              "      background-color: #3B4455;\n",
              "      fill: #D2E3FC;\n",
              "    }\n",
              "\n",
              "    [theme=dark] .colab-df-convert:hover {\n",
              "      background-color: #434B5C;\n",
              "      box-shadow: 0px 1px 3px 1px rgba(0, 0, 0, 0.15);\n",
              "      filter: drop-shadow(0px 1px 2px rgba(0, 0, 0, 0.3));\n",
              "      fill: #FFFFFF;\n",
              "    }\n",
              "  </style>\n",
              "\n",
              "    <script>\n",
              "      const buttonEl =\n",
              "        document.querySelector('#df-5f350b2f-9df7-473c-80c2-01b7860f37ab button.colab-df-convert');\n",
              "      buttonEl.style.display =\n",
              "        google.colab.kernel.accessAllowed ? 'block' : 'none';\n",
              "\n",
              "      async function convertToInteractive(key) {\n",
              "        const element = document.querySelector('#df-5f350b2f-9df7-473c-80c2-01b7860f37ab');\n",
              "        const dataTable =\n",
              "          await google.colab.kernel.invokeFunction('convertToInteractive',\n",
              "                                                    [key], {});\n",
              "        if (!dataTable) return;\n",
              "\n",
              "        const docLinkHtml = 'Like what you see? Visit the ' +\n",
              "          '<a target=\"_blank\" href=https://colab.research.google.com/notebooks/data_table.ipynb>data table notebook</a>'\n",
              "          + ' to learn more about interactive tables.';\n",
              "        element.innerHTML = '';\n",
              "        dataTable['output_type'] = 'display_data';\n",
              "        await google.colab.output.renderOutput(dataTable, element);\n",
              "        const docLink = document.createElement('div');\n",
              "        docLink.innerHTML = docLinkHtml;\n",
              "        element.appendChild(docLink);\n",
              "      }\n",
              "    </script>\n",
              "  </div>\n",
              "\n",
              "\n",
              "<div id=\"df-9dc53dca-3ab0-4121-8ac0-faa1187a01e7\">\n",
              "  <button class=\"colab-df-quickchart\" onclick=\"quickchart('df-9dc53dca-3ab0-4121-8ac0-faa1187a01e7')\"\n",
              "            title=\"Suggest charts.\"\n",
              "            style=\"display:none;\">\n",
              "\n",
              "<svg xmlns=\"http://www.w3.org/2000/svg\" height=\"24px\"viewBox=\"0 0 24 24\"\n",
              "     width=\"24px\">\n",
              "    <g>\n",
              "        <path d=\"M19 3H5c-1.1 0-2 .9-2 2v14c0 1.1.9 2 2 2h14c1.1 0 2-.9 2-2V5c0-1.1-.9-2-2-2zM9 17H7v-7h2v7zm4 0h-2V7h2v10zm4 0h-2v-4h2v4z\"/>\n",
              "    </g>\n",
              "</svg>\n",
              "  </button>\n",
              "\n",
              "<style>\n",
              "  .colab-df-quickchart {\n",
              "      --bg-color: #E8F0FE;\n",
              "      --fill-color: #1967D2;\n",
              "      --hover-bg-color: #E2EBFA;\n",
              "      --hover-fill-color: #174EA6;\n",
              "      --disabled-fill-color: #AAA;\n",
              "      --disabled-bg-color: #DDD;\n",
              "  }\n",
              "\n",
              "  [theme=dark] .colab-df-quickchart {\n",
              "      --bg-color: #3B4455;\n",
              "      --fill-color: #D2E3FC;\n",
              "      --hover-bg-color: #434B5C;\n",
              "      --hover-fill-color: #FFFFFF;\n",
              "      --disabled-bg-color: #3B4455;\n",
              "      --disabled-fill-color: #666;\n",
              "  }\n",
              "\n",
              "  .colab-df-quickchart {\n",
              "    background-color: var(--bg-color);\n",
              "    border: none;\n",
              "    border-radius: 50%;\n",
              "    cursor: pointer;\n",
              "    display: none;\n",
              "    fill: var(--fill-color);\n",
              "    height: 32px;\n",
              "    padding: 0;\n",
              "    width: 32px;\n",
              "  }\n",
              "\n",
              "  .colab-df-quickchart:hover {\n",
              "    background-color: var(--hover-bg-color);\n",
              "    box-shadow: 0 1px 2px rgba(60, 64, 67, 0.3), 0 1px 3px 1px rgba(60, 64, 67, 0.15);\n",
              "    fill: var(--button-hover-fill-color);\n",
              "  }\n",
              "\n",
              "  .colab-df-quickchart-complete:disabled,\n",
              "  .colab-df-quickchart-complete:disabled:hover {\n",
              "    background-color: var(--disabled-bg-color);\n",
              "    fill: var(--disabled-fill-color);\n",
              "    box-shadow: none;\n",
              "  }\n",
              "\n",
              "  .colab-df-spinner {\n",
              "    border: 2px solid var(--fill-color);\n",
              "    border-color: transparent;\n",
              "    border-bottom-color: var(--fill-color);\n",
              "    animation:\n",
              "      spin 1s steps(1) infinite;\n",
              "  }\n",
              "\n",
              "  @keyframes spin {\n",
              "    0% {\n",
              "      border-color: transparent;\n",
              "      border-bottom-color: var(--fill-color);\n",
              "      border-left-color: var(--fill-color);\n",
              "    }\n",
              "    20% {\n",
              "      border-color: transparent;\n",
              "      border-left-color: var(--fill-color);\n",
              "      border-top-color: var(--fill-color);\n",
              "    }\n",
              "    30% {\n",
              "      border-color: transparent;\n",
              "      border-left-color: var(--fill-color);\n",
              "      border-top-color: var(--fill-color);\n",
              "      border-right-color: var(--fill-color);\n",
              "    }\n",
              "    40% {\n",
              "      border-color: transparent;\n",
              "      border-right-color: var(--fill-color);\n",
              "      border-top-color: var(--fill-color);\n",
              "    }\n",
              "    60% {\n",
              "      border-color: transparent;\n",
              "      border-right-color: var(--fill-color);\n",
              "    }\n",
              "    80% {\n",
              "      border-color: transparent;\n",
              "      border-right-color: var(--fill-color);\n",
              "      border-bottom-color: var(--fill-color);\n",
              "    }\n",
              "    90% {\n",
              "      border-color: transparent;\n",
              "      border-bottom-color: var(--fill-color);\n",
              "    }\n",
              "  }\n",
              "</style>\n",
              "\n",
              "  <script>\n",
              "    async function quickchart(key) {\n",
              "      const quickchartButtonEl =\n",
              "        document.querySelector('#' + key + ' button');\n",
              "      quickchartButtonEl.disabled = true;  // To prevent multiple clicks.\n",
              "      quickchartButtonEl.classList.add('colab-df-spinner');\n",
              "      try {\n",
              "        const charts = await google.colab.kernel.invokeFunction(\n",
              "            'suggestCharts', [key], {});\n",
              "      } catch (error) {\n",
              "        console.error('Error during call to suggestCharts:', error);\n",
              "      }\n",
              "      quickchartButtonEl.classList.remove('colab-df-spinner');\n",
              "      quickchartButtonEl.classList.add('colab-df-quickchart-complete');\n",
              "    }\n",
              "    (() => {\n",
              "      let quickchartButtonEl =\n",
              "        document.querySelector('#df-9dc53dca-3ab0-4121-8ac0-faa1187a01e7 button');\n",
              "      quickchartButtonEl.style.display =\n",
              "        google.colab.kernel.accessAllowed ? 'block' : 'none';\n",
              "    })();\n",
              "  </script>\n",
              "</div>\n",
              "    </div>\n",
              "  </div>\n"
            ]
          },
          "metadata": {},
          "execution_count": 57
        }
      ]
    },
    {
      "cell_type": "code",
      "source": [
        "df.shape"
      ],
      "metadata": {
        "colab": {
          "base_uri": "https://localhost:8080/"
        },
        "id": "Cq_ciw9Kczyi",
        "outputId": "c6accb32-90e9-4d55-f5f0-de81197fac89"
      },
      "execution_count": null,
      "outputs": [
        {
          "output_type": "execute_result",
          "data": {
            "text/plain": [
              "(398, 9)"
            ]
          },
          "metadata": {},
          "execution_count": 58
        }
      ]
    },
    {
      "cell_type": "code",
      "source": [
        "df.info()"
      ],
      "metadata": {
        "colab": {
          "base_uri": "https://localhost:8080/"
        },
        "id": "dOYVCTdMc0nx",
        "outputId": "8b8feee9-9bb4-41cd-8645-ef03878e4db1"
      },
      "execution_count": null,
      "outputs": [
        {
          "output_type": "stream",
          "name": "stdout",
          "text": [
            "<class 'pandas.core.frame.DataFrame'>\n",
            "RangeIndex: 398 entries, 0 to 397\n",
            "Data columns (total 9 columns):\n",
            " #   Column        Non-Null Count  Dtype  \n",
            "---  ------        --------------  -----  \n",
            " 0   mpg           398 non-null    float64\n",
            " 1   cylinders     398 non-null    int64  \n",
            " 2   displacement  398 non-null    float64\n",
            " 3   horsepower    398 non-null    object \n",
            " 4   weight        398 non-null    int64  \n",
            " 5   acceleration  398 non-null    float64\n",
            " 6   model year    398 non-null    int64  \n",
            " 7   origin        398 non-null    int64  \n",
            " 8   car name      398 non-null    object \n",
            "dtypes: float64(3), int64(4), object(2)\n",
            "memory usage: 28.1+ KB\n"
          ]
        }
      ]
    },
    {
      "cell_type": "code",
      "source": [
        "import numpy as np\n",
        "df['horsepower'] = df['horsepower'].replace('?',np.nan)"
      ],
      "metadata": {
        "id": "UMtHlVpkFmvI"
      },
      "execution_count": null,
      "outputs": []
    },
    {
      "cell_type": "code",
      "source": [
        "df['horsepower'] = pd.to_numeric(df['horsepower'], errors='coerce')"
      ],
      "metadata": {
        "id": "bob78SKOVwD2"
      },
      "execution_count": null,
      "outputs": []
    },
    {
      "cell_type": "code",
      "source": [
        "df['horsepower'] = df['horsepower'].fillna(df['horsepower'].mean())"
      ],
      "metadata": {
        "id": "U_p5v4K6dmFp"
      },
      "execution_count": null,
      "outputs": []
    },
    {
      "cell_type": "code",
      "source": [
        "df = df.drop(columns = ['car name'])\n",
        "# df['horsepower'] = df['horsepower'].astype(int)\n",
        "x = df.iloc[:,1:]\n",
        "y = df.iloc[:,0]"
      ],
      "metadata": {
        "id": "72uHikNMeAOd"
      },
      "execution_count": null,
      "outputs": []
    },
    {
      "cell_type": "code",
      "source": [
        "from sklearn.model_selection import train_test_split\n",
        "x_train, x_test, y_train, y_test = train_test_split(x, y, test_size = 0.2, random_state = 1)"
      ],
      "metadata": {
        "id": "Kihakc-SsWUm"
      },
      "execution_count": null,
      "outputs": []
    },
    {
      "cell_type": "code",
      "source": [
        "from sklearn.preprocessing import MinMaxScaler\n",
        "scaler = MinMaxScaler()\n",
        "x_train_scaled = scaler.fit_transform(x_train)\n",
        "x_test_scaled = scaler.transform(x_test)"
      ],
      "metadata": {
        "id": "63PowDPX49jb"
      },
      "execution_count": null,
      "outputs": []
    },
    {
      "cell_type": "code",
      "source": [
        "model = Sequential()\n",
        "model.add(Dense(7, activation = 'relu', input_dim = 7))\n",
        "model.add(BatchNormalization())\n",
        "model.add(Dense(7, activation = 'relu'))\n",
        "model.add(Dense(1, activation = 'linear'))"
      ],
      "metadata": {
        "id": "lfPiPM__HVIj"
      },
      "execution_count": null,
      "outputs": []
    },
    {
      "cell_type": "code",
      "source": [
        "model.summary()"
      ],
      "metadata": {
        "colab": {
          "base_uri": "https://localhost:8080/"
        },
        "id": "f7OYCHPoHusk",
        "outputId": "53bd3cbe-8579-43dd-9589-b25a0843eda6"
      },
      "execution_count": null,
      "outputs": [
        {
          "output_type": "stream",
          "name": "stdout",
          "text": [
            "Model: \"sequential_3\"\n",
            "_________________________________________________________________\n",
            " Layer (type)                Output Shape              Param #   \n",
            "=================================================================\n",
            " dense_15 (Dense)            (None, 7)                 56        \n",
            "                                                                 \n",
            " batch_normalization_4 (Bat  (None, 7)                 28        \n",
            " chNormalization)                                                \n",
            "                                                                 \n",
            " dense_16 (Dense)            (None, 7)                 56        \n",
            "                                                                 \n",
            " dense_17 (Dense)            (None, 1)                 8         \n",
            "                                                                 \n",
            "=================================================================\n",
            "Total params: 148 (592.00 Byte)\n",
            "Trainable params: 134 (536.00 Byte)\n",
            "Non-trainable params: 14 (56.00 Byte)\n",
            "_________________________________________________________________\n"
          ]
        }
      ]
    },
    {
      "cell_type": "code",
      "source": [
        "model.compile(loss = 'mean_squared_error',optimizer = 'Adam')"
      ],
      "metadata": {
        "id": "U5tQWIUDHwIx"
      },
      "execution_count": null,
      "outputs": []
    },
    {
      "cell_type": "code",
      "source": [
        "history = model.fit(x_train_scaled, y_train, epochs = 150, validation_split = 0.2)"
      ],
      "metadata": {
        "colab": {
          "base_uri": "https://localhost:8080/"
        },
        "id": "sv8D9VUIH5tl",
        "outputId": "401a7e91-d5c0-4465-c161-f0a9938a19c0"
      },
      "execution_count": null,
      "outputs": [
        {
          "output_type": "stream",
          "name": "stdout",
          "text": [
            "Epoch 1/150\n",
            "8/8 [==============================] - 1s 23ms/step - loss: 620.7905 - val_loss: 546.7920\n",
            "Epoch 2/150\n",
            "8/8 [==============================] - 0s 5ms/step - loss: 616.6611 - val_loss: 544.7788\n",
            "Epoch 3/150\n",
            "8/8 [==============================] - 0s 8ms/step - loss: 612.3973 - val_loss: 542.8719\n",
            "Epoch 4/150\n",
            "8/8 [==============================] - 0s 5ms/step - loss: 608.0948 - val_loss: 541.0070\n",
            "Epoch 5/150\n",
            "8/8 [==============================] - 0s 8ms/step - loss: 604.0870 - val_loss: 539.0104\n",
            "Epoch 6/150\n",
            "8/8 [==============================] - 0s 9ms/step - loss: 598.9700 - val_loss: 536.9272\n",
            "Epoch 7/150\n",
            "8/8 [==============================] - 0s 6ms/step - loss: 594.3037 - val_loss: 534.6683\n",
            "Epoch 8/150\n",
            "8/8 [==============================] - 0s 8ms/step - loss: 589.8827 - val_loss: 532.3359\n",
            "Epoch 9/150\n",
            "8/8 [==============================] - 0s 6ms/step - loss: 584.5696 - val_loss: 529.8884\n",
            "Epoch 10/150\n",
            "8/8 [==============================] - 0s 8ms/step - loss: 579.0372 - val_loss: 527.3934\n",
            "Epoch 11/150\n",
            "8/8 [==============================] - 0s 6ms/step - loss: 573.9963 - val_loss: 524.6192\n",
            "Epoch 12/150\n",
            "8/8 [==============================] - 0s 8ms/step - loss: 567.1180 - val_loss: 521.4792\n",
            "Epoch 13/150\n",
            "8/8 [==============================] - 0s 5ms/step - loss: 560.9744 - val_loss: 517.9349\n",
            "Epoch 14/150\n",
            "8/8 [==============================] - 0s 7ms/step - loss: 553.8365 - val_loss: 514.0638\n",
            "Epoch 15/150\n",
            "8/8 [==============================] - 0s 5ms/step - loss: 547.6074 - val_loss: 509.8511\n",
            "Epoch 16/150\n",
            "8/8 [==============================] - 0s 6ms/step - loss: 540.1972 - val_loss: 505.1705\n",
            "Epoch 17/150\n",
            "8/8 [==============================] - 0s 6ms/step - loss: 532.4167 - val_loss: 500.0324\n",
            "Epoch 18/150\n",
            "8/8 [==============================] - 0s 6ms/step - loss: 524.9504 - val_loss: 494.8156\n",
            "Epoch 19/150\n",
            "8/8 [==============================] - 0s 6ms/step - loss: 517.5354 - val_loss: 489.0800\n",
            "Epoch 20/150\n",
            "8/8 [==============================] - 0s 9ms/step - loss: 509.7488 - val_loss: 482.7606\n",
            "Epoch 21/150\n",
            "8/8 [==============================] - 0s 8ms/step - loss: 500.6989 - val_loss: 475.8201\n",
            "Epoch 22/150\n",
            "8/8 [==============================] - 0s 6ms/step - loss: 491.8311 - val_loss: 468.2250\n",
            "Epoch 23/150\n",
            "8/8 [==============================] - 0s 8ms/step - loss: 483.5096 - val_loss: 460.1858\n",
            "Epoch 24/150\n",
            "8/8 [==============================] - 0s 9ms/step - loss: 473.3778 - val_loss: 451.4383\n",
            "Epoch 25/150\n",
            "8/8 [==============================] - 0s 8ms/step - loss: 463.2561 - val_loss: 441.7572\n",
            "Epoch 26/150\n",
            "8/8 [==============================] - 0s 5ms/step - loss: 454.1734 - val_loss: 431.2211\n",
            "Epoch 27/150\n",
            "8/8 [==============================] - 0s 5ms/step - loss: 443.1214 - val_loss: 420.1393\n",
            "Epoch 28/150\n",
            "8/8 [==============================] - 0s 5ms/step - loss: 431.8594 - val_loss: 408.0276\n",
            "Epoch 29/150\n",
            "8/8 [==============================] - 0s 5ms/step - loss: 419.8506 - val_loss: 395.4649\n",
            "Epoch 30/150\n",
            "8/8 [==============================] - 0s 8ms/step - loss: 408.5824 - val_loss: 382.1794\n",
            "Epoch 31/150\n",
            "8/8 [==============================] - 0s 7ms/step - loss: 396.7491 - val_loss: 368.9280\n",
            "Epoch 32/150\n",
            "8/8 [==============================] - 0s 8ms/step - loss: 381.0790 - val_loss: 354.6377\n",
            "Epoch 33/150\n",
            "8/8 [==============================] - 0s 5ms/step - loss: 368.5454 - val_loss: 338.9590\n",
            "Epoch 34/150\n",
            "8/8 [==============================] - 0s 8ms/step - loss: 352.2058 - val_loss: 322.7737\n",
            "Epoch 35/150\n",
            "8/8 [==============================] - 0s 5ms/step - loss: 338.1213 - val_loss: 306.0670\n",
            "Epoch 36/150\n",
            "8/8 [==============================] - 0s 6ms/step - loss: 321.6628 - val_loss: 288.5202\n",
            "Epoch 37/150\n",
            "8/8 [==============================] - 0s 8ms/step - loss: 308.0966 - val_loss: 270.3864\n",
            "Epoch 38/150\n",
            "8/8 [==============================] - 0s 9ms/step - loss: 292.3672 - val_loss: 251.4797\n",
            "Epoch 39/150\n",
            "8/8 [==============================] - 0s 11ms/step - loss: 274.9149 - val_loss: 232.0223\n",
            "Epoch 40/150\n",
            "8/8 [==============================] - 0s 8ms/step - loss: 261.2267 - val_loss: 211.7244\n",
            "Epoch 41/150\n",
            "8/8 [==============================] - 0s 8ms/step - loss: 244.8313 - val_loss: 193.0724\n",
            "Epoch 42/150\n",
            "8/8 [==============================] - 0s 8ms/step - loss: 231.6305 - val_loss: 175.3974\n",
            "Epoch 43/150\n",
            "8/8 [==============================] - 0s 8ms/step - loss: 215.0905 - val_loss: 160.0708\n",
            "Epoch 44/150\n",
            "8/8 [==============================] - 0s 7ms/step - loss: 204.5529 - val_loss: 145.8092\n",
            "Epoch 45/150\n",
            "8/8 [==============================] - 0s 10ms/step - loss: 189.8530 - val_loss: 132.7988\n",
            "Epoch 46/150\n",
            "8/8 [==============================] - 0s 13ms/step - loss: 173.4725 - val_loss: 120.2168\n",
            "Epoch 47/150\n",
            "8/8 [==============================] - 0s 8ms/step - loss: 160.1503 - val_loss: 109.2436\n",
            "Epoch 48/150\n",
            "8/8 [==============================] - 0s 10ms/step - loss: 149.5838 - val_loss: 99.2368\n",
            "Epoch 49/150\n",
            "8/8 [==============================] - 0s 10ms/step - loss: 136.9616 - val_loss: 89.9259\n",
            "Epoch 50/150\n",
            "8/8 [==============================] - 0s 10ms/step - loss: 122.4878 - val_loss: 81.4631\n",
            "Epoch 51/150\n",
            "8/8 [==============================] - 0s 8ms/step - loss: 113.4203 - val_loss: 73.6616\n",
            "Epoch 52/150\n",
            "8/8 [==============================] - 0s 7ms/step - loss: 106.2718 - val_loss: 65.9884\n",
            "Epoch 53/150\n",
            "8/8 [==============================] - 0s 7ms/step - loss: 93.6411 - val_loss: 59.4370\n",
            "Epoch 54/150\n",
            "8/8 [==============================] - 0s 8ms/step - loss: 86.5767 - val_loss: 53.3747\n",
            "Epoch 55/150\n",
            "8/8 [==============================] - 0s 7ms/step - loss: 77.5801 - val_loss: 47.8315\n",
            "Epoch 56/150\n",
            "8/8 [==============================] - 0s 8ms/step - loss: 71.0857 - val_loss: 43.1269\n",
            "Epoch 57/150\n",
            "8/8 [==============================] - 0s 7ms/step - loss: 65.8660 - val_loss: 38.5907\n",
            "Epoch 58/150\n",
            "8/8 [==============================] - 0s 10ms/step - loss: 56.6222 - val_loss: 34.6716\n",
            "Epoch 59/150\n",
            "8/8 [==============================] - 0s 10ms/step - loss: 50.8196 - val_loss: 31.8645\n",
            "Epoch 60/150\n",
            "8/8 [==============================] - 0s 8ms/step - loss: 48.0451 - val_loss: 29.1731\n",
            "Epoch 61/150\n",
            "8/8 [==============================] - 0s 11ms/step - loss: 42.1235 - val_loss: 26.7562\n",
            "Epoch 62/150\n",
            "8/8 [==============================] - 0s 7ms/step - loss: 39.1632 - val_loss: 24.6671\n",
            "Epoch 63/150\n",
            "8/8 [==============================] - 0s 8ms/step - loss: 36.2941 - val_loss: 23.1356\n",
            "Epoch 64/150\n",
            "8/8 [==============================] - 0s 7ms/step - loss: 31.5945 - val_loss: 22.0779\n",
            "Epoch 65/150\n",
            "8/8 [==============================] - 0s 8ms/step - loss: 30.8828 - val_loss: 21.1139\n",
            "Epoch 66/150\n",
            "8/8 [==============================] - 0s 7ms/step - loss: 25.7642 - val_loss: 20.3757\n",
            "Epoch 67/150\n",
            "8/8 [==============================] - 0s 7ms/step - loss: 24.9756 - val_loss: 19.8399\n",
            "Epoch 68/150\n",
            "8/8 [==============================] - 0s 11ms/step - loss: 28.0165 - val_loss: 19.5524\n",
            "Epoch 69/150\n",
            "8/8 [==============================] - 0s 8ms/step - loss: 23.6920 - val_loss: 19.2134\n",
            "Epoch 70/150\n",
            "8/8 [==============================] - 0s 8ms/step - loss: 24.0953 - val_loss: 19.0114\n",
            "Epoch 71/150\n",
            "8/8 [==============================] - 0s 8ms/step - loss: 21.7307 - val_loss: 18.8257\n",
            "Epoch 72/150\n",
            "8/8 [==============================] - 0s 11ms/step - loss: 18.5914 - val_loss: 18.7040\n",
            "Epoch 73/150\n",
            "8/8 [==============================] - 0s 11ms/step - loss: 19.8759 - val_loss: 18.6082\n",
            "Epoch 74/150\n",
            "8/8 [==============================] - 0s 8ms/step - loss: 17.5071 - val_loss: 18.5405\n",
            "Epoch 75/150\n",
            "8/8 [==============================] - 0s 8ms/step - loss: 20.2555 - val_loss: 18.4970\n",
            "Epoch 76/150\n",
            "8/8 [==============================] - 0s 10ms/step - loss: 18.0180 - val_loss: 18.3646\n",
            "Epoch 77/150\n",
            "8/8 [==============================] - 0s 10ms/step - loss: 20.0091 - val_loss: 18.2437\n",
            "Epoch 78/150\n",
            "8/8 [==============================] - 0s 8ms/step - loss: 15.6153 - val_loss: 18.1451\n",
            "Epoch 79/150\n",
            "8/8 [==============================] - 0s 8ms/step - loss: 18.5127 - val_loss: 18.0262\n",
            "Epoch 80/150\n",
            "8/8 [==============================] - 0s 11ms/step - loss: 14.0594 - val_loss: 17.8621\n",
            "Epoch 81/150\n",
            "8/8 [==============================] - 0s 6ms/step - loss: 15.7878 - val_loss: 17.7528\n",
            "Epoch 82/150\n",
            "8/8 [==============================] - 0s 5ms/step - loss: 17.8820 - val_loss: 17.5737\n",
            "Epoch 83/150\n",
            "8/8 [==============================] - 0s 6ms/step - loss: 16.1355 - val_loss: 17.4353\n",
            "Epoch 84/150\n",
            "8/8 [==============================] - 0s 5ms/step - loss: 14.1447 - val_loss: 17.2942\n",
            "Epoch 85/150\n",
            "8/8 [==============================] - 0s 5ms/step - loss: 13.4669 - val_loss: 17.1805\n",
            "Epoch 86/150\n",
            "8/8 [==============================] - 0s 6ms/step - loss: 14.0058 - val_loss: 17.0353\n",
            "Epoch 87/150\n",
            "8/8 [==============================] - 0s 5ms/step - loss: 14.3764 - val_loss: 16.9365\n",
            "Epoch 88/150\n",
            "8/8 [==============================] - 0s 6ms/step - loss: 13.4140 - val_loss: 16.8058\n",
            "Epoch 89/150\n",
            "8/8 [==============================] - 0s 5ms/step - loss: 14.3121 - val_loss: 16.6603\n",
            "Epoch 90/150\n",
            "8/8 [==============================] - 0s 5ms/step - loss: 15.1576 - val_loss: 16.5163\n",
            "Epoch 91/150\n",
            "8/8 [==============================] - 0s 5ms/step - loss: 15.2987 - val_loss: 16.3887\n",
            "Epoch 92/150\n",
            "8/8 [==============================] - 0s 5ms/step - loss: 12.1524 - val_loss: 16.1726\n",
            "Epoch 93/150\n",
            "8/8 [==============================] - 0s 8ms/step - loss: 13.7237 - val_loss: 15.9765\n",
            "Epoch 94/150\n",
            "8/8 [==============================] - 0s 5ms/step - loss: 12.3465 - val_loss: 15.8185\n",
            "Epoch 95/150\n",
            "8/8 [==============================] - 0s 6ms/step - loss: 13.6471 - val_loss: 15.7043\n",
            "Epoch 96/150\n",
            "8/8 [==============================] - 0s 6ms/step - loss: 14.4635 - val_loss: 15.6183\n",
            "Epoch 97/150\n",
            "8/8 [==============================] - 0s 5ms/step - loss: 13.9942 - val_loss: 15.5013\n",
            "Epoch 98/150\n",
            "8/8 [==============================] - 0s 8ms/step - loss: 12.0669 - val_loss: 15.3758\n",
            "Epoch 99/150\n",
            "8/8 [==============================] - 0s 6ms/step - loss: 12.5928 - val_loss: 15.2695\n",
            "Epoch 100/150\n",
            "8/8 [==============================] - 0s 6ms/step - loss: 12.7301 - val_loss: 15.1072\n",
            "Epoch 101/150\n",
            "8/8 [==============================] - 0s 6ms/step - loss: 13.2927 - val_loss: 14.9482\n",
            "Epoch 102/150\n",
            "8/8 [==============================] - 0s 5ms/step - loss: 10.6582 - val_loss: 14.8282\n",
            "Epoch 103/150\n",
            "8/8 [==============================] - 0s 5ms/step - loss: 14.9672 - val_loss: 14.7545\n",
            "Epoch 104/150\n",
            "8/8 [==============================] - 0s 9ms/step - loss: 13.3736 - val_loss: 14.6596\n",
            "Epoch 105/150\n",
            "8/8 [==============================] - 0s 8ms/step - loss: 14.7228 - val_loss: 14.5872\n",
            "Epoch 106/150\n",
            "8/8 [==============================] - 0s 8ms/step - loss: 13.7162 - val_loss: 14.4621\n",
            "Epoch 107/150\n",
            "8/8 [==============================] - 0s 8ms/step - loss: 13.9154 - val_loss: 14.3522\n",
            "Epoch 108/150\n",
            "8/8 [==============================] - 0s 8ms/step - loss: 13.0851 - val_loss: 14.2610\n",
            "Epoch 109/150\n",
            "8/8 [==============================] - 0s 8ms/step - loss: 12.4565 - val_loss: 14.1746\n",
            "Epoch 110/150\n",
            "8/8 [==============================] - 0s 8ms/step - loss: 15.4564 - val_loss: 14.0667\n",
            "Epoch 111/150\n",
            "8/8 [==============================] - 0s 8ms/step - loss: 14.4548 - val_loss: 14.0562\n",
            "Epoch 112/150\n",
            "8/8 [==============================] - 0s 7ms/step - loss: 12.4222 - val_loss: 14.0149\n",
            "Epoch 113/150\n",
            "8/8 [==============================] - 0s 6ms/step - loss: 12.0191 - val_loss: 13.9071\n",
            "Epoch 114/150\n",
            "8/8 [==============================] - 0s 8ms/step - loss: 14.9242 - val_loss: 13.7617\n",
            "Epoch 115/150\n",
            "8/8 [==============================] - 0s 6ms/step - loss: 12.4277 - val_loss: 13.6761\n",
            "Epoch 116/150\n",
            "8/8 [==============================] - 0s 6ms/step - loss: 12.2180 - val_loss: 13.6270\n",
            "Epoch 117/150\n",
            "8/8 [==============================] - 0s 6ms/step - loss: 11.5408 - val_loss: 13.5539\n",
            "Epoch 118/150\n",
            "8/8 [==============================] - 0s 6ms/step - loss: 11.6697 - val_loss: 13.5103\n",
            "Epoch 119/150\n",
            "8/8 [==============================] - 0s 9ms/step - loss: 12.1584 - val_loss: 13.4056\n",
            "Epoch 120/150\n",
            "8/8 [==============================] - 0s 6ms/step - loss: 11.9432 - val_loss: 13.3173\n",
            "Epoch 121/150\n",
            "8/8 [==============================] - 0s 6ms/step - loss: 12.1480 - val_loss: 13.2683\n",
            "Epoch 122/150\n",
            "8/8 [==============================] - 0s 6ms/step - loss: 10.0595 - val_loss: 13.1896\n",
            "Epoch 123/150\n",
            "8/8 [==============================] - 0s 6ms/step - loss: 13.5336 - val_loss: 13.1130\n",
            "Epoch 124/150\n",
            "8/8 [==============================] - 0s 8ms/step - loss: 14.7100 - val_loss: 13.0076\n",
            "Epoch 125/150\n",
            "8/8 [==============================] - 0s 6ms/step - loss: 11.9443 - val_loss: 12.9740\n",
            "Epoch 126/150\n",
            "8/8 [==============================] - 0s 9ms/step - loss: 12.3046 - val_loss: 12.9315\n",
            "Epoch 127/150\n",
            "8/8 [==============================] - 0s 6ms/step - loss: 13.0127 - val_loss: 12.8583\n",
            "Epoch 128/150\n",
            "8/8 [==============================] - 0s 5ms/step - loss: 12.2816 - val_loss: 12.8103\n",
            "Epoch 129/150\n",
            "8/8 [==============================] - 0s 8ms/step - loss: 12.4517 - val_loss: 12.8138\n",
            "Epoch 130/150\n",
            "8/8 [==============================] - 0s 6ms/step - loss: 12.0804 - val_loss: 12.8694\n",
            "Epoch 131/150\n",
            "8/8 [==============================] - 0s 6ms/step - loss: 12.3585 - val_loss: 12.8410\n",
            "Epoch 132/150\n",
            "8/8 [==============================] - 0s 5ms/step - loss: 11.7557 - val_loss: 12.9664\n",
            "Epoch 133/150\n",
            "8/8 [==============================] - 0s 6ms/step - loss: 10.2239 - val_loss: 13.0017\n",
            "Epoch 134/150\n",
            "8/8 [==============================] - 0s 8ms/step - loss: 11.4103 - val_loss: 12.9761\n",
            "Epoch 135/150\n",
            "8/8 [==============================] - 0s 8ms/step - loss: 11.3478 - val_loss: 12.8431\n",
            "Epoch 136/150\n",
            "8/8 [==============================] - 0s 6ms/step - loss: 10.7274 - val_loss: 12.9311\n",
            "Epoch 137/150\n",
            "8/8 [==============================] - 0s 6ms/step - loss: 11.5696 - val_loss: 12.9971\n",
            "Epoch 138/150\n",
            "8/8 [==============================] - 0s 8ms/step - loss: 12.0901 - val_loss: 12.9568\n",
            "Epoch 139/150\n",
            "8/8 [==============================] - 0s 8ms/step - loss: 9.9882 - val_loss: 12.8804\n",
            "Epoch 140/150\n",
            "8/8 [==============================] - 0s 8ms/step - loss: 12.1430 - val_loss: 12.8589\n",
            "Epoch 141/150\n",
            "8/8 [==============================] - 0s 6ms/step - loss: 13.7640 - val_loss: 12.6966\n",
            "Epoch 142/150\n",
            "8/8 [==============================] - 0s 5ms/step - loss: 11.6696 - val_loss: 12.6017\n",
            "Epoch 143/150\n",
            "8/8 [==============================] - 0s 6ms/step - loss: 10.8124 - val_loss: 12.5674\n",
            "Epoch 144/150\n",
            "8/8 [==============================] - 0s 6ms/step - loss: 10.3376 - val_loss: 12.5595\n",
            "Epoch 145/150\n",
            "8/8 [==============================] - 0s 6ms/step - loss: 11.7390 - val_loss: 12.4362\n",
            "Epoch 146/150\n",
            "8/8 [==============================] - 0s 8ms/step - loss: 11.6336 - val_loss: 12.2969\n",
            "Epoch 147/150\n",
            "8/8 [==============================] - 0s 8ms/step - loss: 13.0061 - val_loss: 12.3227\n",
            "Epoch 148/150\n",
            "8/8 [==============================] - 0s 5ms/step - loss: 11.0335 - val_loss: 12.3019\n",
            "Epoch 149/150\n",
            "8/8 [==============================] - 0s 6ms/step - loss: 10.3278 - val_loss: 12.3434\n",
            "Epoch 150/150\n",
            "8/8 [==============================] - 0s 6ms/step - loss: 10.4159 - val_loss: 12.4495\n"
          ]
        }
      ]
    },
    {
      "cell_type": "code",
      "source": [
        "y_pred = model.predict(x_test_scaled)"
      ],
      "metadata": {
        "colab": {
          "base_uri": "https://localhost:8080/"
        },
        "id": "Tv5dYc6cICeW",
        "outputId": "9625178c-ac71-4413-c15c-5daa909ac8d5"
      },
      "execution_count": null,
      "outputs": [
        {
          "output_type": "stream",
          "name": "stdout",
          "text": [
            "3/3 [==============================] - 0s 3ms/step\n"
          ]
        }
      ]
    },
    {
      "cell_type": "code",
      "source": [
        "from sklearn.metrics import r2_score\n",
        "r2_score(y_test, y_pred)"
      ],
      "metadata": {
        "colab": {
          "base_uri": "https://localhost:8080/"
        },
        "id": "1Xpe0hDZVmMm",
        "outputId": "b2afd194-9e93-48df-8eda-5f3208c821db"
      },
      "execution_count": null,
      "outputs": [
        {
          "output_type": "execute_result",
          "data": {
            "text/plain": [
              "0.8506310260874175"
            ]
          },
          "metadata": {},
          "execution_count": 71
        }
      ]
    },
    {
      "cell_type": "code",
      "source": [
        "import tensorflow as tf\n",
        "from tensorflow.keras import datasets, layers, models\n",
        "import matplotlib.pyplot as plt\n",
        "import numpy as np"
      ],
      "metadata": {
        "id": "dqRq5ZAiVq3V"
      },
      "execution_count": null,
      "outputs": []
    },
    {
      "cell_type": "code",
      "source": [
        "(x_train, y_train), (x_test, y_test) =  datasets.cifar10.load_data()"
      ],
      "metadata": {
        "id": "muCFIWItbuQ8",
        "colab": {
          "base_uri": "https://localhost:8080/"
        },
        "outputId": "83b6536b-01c6-4476-8627-7f00d23a6b0e"
      },
      "execution_count": null,
      "outputs": [
        {
          "output_type": "stream",
          "name": "stdout",
          "text": [
            "Downloading data from https://www.cs.toronto.edu/~kriz/cifar-10-python.tar.gz\n",
            "170498071/170498071 [==============================] - 11s 0us/step\n"
          ]
        }
      ]
    },
    {
      "cell_type": "code",
      "source": [
        "x_train.shape"
      ],
      "metadata": {
        "colab": {
          "base_uri": "https://localhost:8080/"
        },
        "id": "0jfRPUXibyGC",
        "outputId": "a71ea0cf-fb07-4d1d-eb09-d9fd737d1bcf"
      },
      "execution_count": null,
      "outputs": [
        {
          "output_type": "execute_result",
          "data": {
            "text/plain": [
              "(50000, 32, 32, 3)"
            ]
          },
          "metadata": {},
          "execution_count": 97
        }
      ]
    },
    {
      "cell_type": "code",
      "source": [
        "classes = ['airplane','automobile','bird','cat','deer','dog','frog','horse','ship','truck']"
      ],
      "metadata": {
        "id": "uGXtlZz3dVfy"
      },
      "execution_count": null,
      "outputs": []
    },
    {
      "cell_type": "code",
      "source": [
        "y_train = y_train.reshape(-1,)"
      ],
      "metadata": {
        "id": "xr74MuZ0gcwg"
      },
      "execution_count": null,
      "outputs": []
    },
    {
      "cell_type": "code",
      "source": [
        "def plot_sample(x, y, index):\n",
        "  plt.figure(figsize = (15,2))\n",
        "  plt.imshow(x_train[index])\n",
        "  plt.xlabel(classes[y[index]])"
      ],
      "metadata": {
        "id": "OTYlQqDVb89I"
      },
      "execution_count": null,
      "outputs": []
    },
    {
      "cell_type": "code",
      "source": [
        "plot_sample(x_train, y_train, 3)"
      ],
      "metadata": {
        "colab": {
          "base_uri": "https://localhost:8080/",
          "height": 237
        },
        "id": "DnCc3yvic5n4",
        "outputId": "3d953879-336a-4de2-b49e-13e371c0ada6"
      },
      "execution_count": null,
      "outputs": [
        {
          "output_type": "display_data",
          "data": {
            "text/plain": [
              "<Figure size 1500x200 with 1 Axes>"
            ],
            "image/png": "[encoded data removed]"
          },
          "metadata": {}
        }
      ]
    },
    {
      "cell_type": "code",
      "source": [
        "x_train = x_train/255\n",
        "x_test = x_test/255"
      ],
      "metadata": {
        "id": "2PXi25HKgpTS"
      },
      "execution_count": null,
      "outputs": []
    },
    {
      "cell_type": "code",
      "source": [
        "x_train.shape"
      ],
      "metadata": {
        "colab": {
          "base_uri": "https://localhost:8080/"
        },
        "id": "dQMwbu0DT4bj",
        "outputId": "44e684a1-ffe3-4208-db44-4fa14f96edf6"
      },
      "execution_count": null,
      "outputs": [
        {
          "output_type": "execute_result",
          "data": {
            "text/plain": [
              "(50000, 32, 32, 3)"
            ]
          },
          "metadata": {},
          "execution_count": 103
        }
      ]
    },
    {
      "cell_type": "code",
      "source": [
        "# model = keras.Sequential([\n",
        "#     Flatten(input_shape = (32,32,3)),\n",
        "#     Dense(3500, activation = 'relu'),\n",
        "#     Dense(1500, activation = 'relu'),\n",
        "#     Dense(10, activation = 'softmax')\n",
        "# ])\n",
        "\n",
        "# model.compile(optimizer = 'SGD',loss = 'sparse_categorical_crossentropy', metrics = ['accuracy'])\n",
        "\n",
        "# model.fit(x_train, y_train, epochs = 8)"
      ],
      "metadata": {
        "id": "_5pM_xkJnG8S"
      },
      "execution_count": null,
      "outputs": []
    },
    {
      "cell_type": "code",
      "source": [
        "input = Input(shape = (32, 32, 3))\n",
        "flat_layer = Flatten()(input)\n",
        "layer1 = Dense(256, activation='relu')(flat_layer)\n",
        "layer2 = Dense(128, activation='relu')(layer1)\n",
        "layer3 = BatchNormalization()(layer2)\n",
        "layer3 = Dense(64, activation='relu')(layer3)\n",
        "layer3 = Dense(128, activation='relu')(layer3)\n",
        "layer3 = Add()([layer2, layer3])\n",
        "layer3 = Dense(64, activation='relu')(layer3)\n",
        "output = Dense(10, activation='softmax')(layer3)\n",
        "model2 = Model(input, output)\n",
        "model2.summary()\n",
        "model2.compile(optimizer = Adam(), loss='sparse_categorical_crossentropy', metrics=['accuracy'])"
      ],
      "metadata": {
        "colab": {
          "base_uri": "https://localhost:8080/"
        },
        "id": "mpxahrWYNZZc",
        "outputId": "ba13646b-996a-4e22-fe58-3f8451a7cdd4"
      },
      "execution_count": null,
      "outputs": [
        {
          "output_type": "stream",
          "name": "stdout",
          "text": [
            "Model: \"model\"\n",
            "__________________________________________________________________________________________________\n",
            " Layer (type)                Output Shape                 Param #   Connected to                  \n",
            "==================================================================================================\n",
            " input_1 (InputLayer)        [(None, 32, 32, 3)]          0         []                            \n",
            "                                                                                                  \n",
            " flatten (Flatten)           (None, 3072)                 0         ['input_1[0][0]']             \n",
            "                                                                                                  \n",
            " dense (Dense)               (None, 256)                  786688    ['flatten[0][0]']             \n",
            "                                                                                                  \n",
            " dense_1 (Dense)             (None, 128)                  32896     ['dense[0][0]']               \n",
            "                                                                                                  \n",
            " batch_normalization (Batch  (None, 128)                  512       ['dense_1[0][0]']             \n",
            " Normalization)                                                                                   \n",
            "                                                                                                  \n",
            " dense_2 (Dense)             (None, 64)                   8256      ['batch_normalization[0][0]'] \n",
            "                                                                                                  \n",
            " dense_3 (Dense)             (None, 128)                  8320      ['dense_2[0][0]']             \n",
            "                                                                                                  \n",
            " add (Add)                   (None, 128)                  0         ['dense_1[0][0]',             \n",
            "                                                                     'dense_3[0][0]']             \n",
            "                                                                                                  \n",
            " dense_4 (Dense)             (None, 64)                   8256      ['add[0][0]']                 \n",
            "                                                                                                  \n",
            " dense_5 (Dense)             (None, 10)                   650       ['dense_4[0][0]']             \n",
            "                                                                                                  \n",
            "==================================================================================================\n",
            "Total params: 845578 (3.23 MB)\n",
            "Trainable params: 845322 (3.22 MB)\n",
            "Non-trainable params: 256 (1.00 KB)\n",
            "__________________________________________________________________________________________________\n"
          ]
        }
      ]
    },
    {
      "cell_type": "code",
      "source": [
        "model2.fit(x_train, y_train, batch_size = 32, epochs = 8, validation_split=0.2)"
      ],
      "metadata": {
        "colab": {
          "base_uri": "https://localhost:8080/"
        },
        "id": "JWIOdrfCQISr",
        "outputId": "7569c594-0fc2-47d8-d5cf-37ca2e35b25d"
      },
      "execution_count": null,
      "outputs": [
        {
          "output_type": "stream",
          "name": "stdout",
          "text": [
            "Epoch 1/8\n",
            "1250/1250 [==============================] - 19s 14ms/step - loss: 1.8806 - accuracy: 0.3195 - val_loss: 1.8714 - val_accuracy: 0.3392\n",
            "Epoch 2/8\n",
            "1250/1250 [==============================] - 20s 16ms/step - loss: 1.6879 - accuracy: 0.3927 - val_loss: 1.8227 - val_accuracy: 0.3652\n",
            "Epoch 3/8\n",
            "1250/1250 [==============================] - 17s 14ms/step - loss: 1.6008 - accuracy: 0.4248 - val_loss: 1.6078 - val_accuracy: 0.4218\n",
            "Epoch 4/8\n",
            "1250/1250 [==============================] - 17s 13ms/step - loss: 1.5514 - accuracy: 0.4424 - val_loss: 1.6352 - val_accuracy: 0.4092\n",
            "Epoch 5/8\n",
            "1250/1250 [==============================] - 18s 14ms/step - loss: 1.5159 - accuracy: 0.4580 - val_loss: 1.6982 - val_accuracy: 0.3988\n",
            "Epoch 6/8\n",
            "1250/1250 [==============================] - 17s 13ms/step - loss: 1.4883 - accuracy: 0.4662 - val_loss: 1.6272 - val_accuracy: 0.4197\n",
            "Epoch 7/8\n",
            "1250/1250 [==============================] - 17s 14ms/step - loss: 1.4699 - accuracy: 0.4731 - val_loss: 1.6239 - val_accuracy: 0.4274\n",
            "Epoch 8/8\n",
            "1250/1250 [==============================] - 17s 14ms/step - loss: 1.4524 - accuracy: 0.4773 - val_loss: 1.6451 - val_accuracy: 0.4299\n"
          ]
        },
        {
          "output_type": "execute_result",
          "data": {
            "text/plain": [
              "<keras.src.callbacks.History at 0x7851a9edad10>"
            ]
          },
          "metadata": {},
          "execution_count": 8
        }
      ]
    },
    {
      "cell_type": "code",
      "source": [
        "y_prob = model2.predict(x_test)\n",
        "y_pred = y_prob.argmax(axis = 1)"
      ],
      "metadata": {
        "colab": {
          "base_uri": "https://localhost:8080/"
        },
        "id": "A6QAIvq2rmqX",
        "outputId": "5d8d8b44-1815-43f4-86f1-cc3d6e1d981a"
      },
      "execution_count": null,
      "outputs": [
        {
          "output_type": "stream",
          "name": "stdout",
          "text": [
            "313/313 [==============================] - 3s 7ms/step\n"
          ]
        }
      ]
    },
    {
      "cell_type": "code",
      "source": [
        "from sklearn.metrics import accuracy_score\n",
        "accuracy_score(y_test, y_pred)"
      ],
      "metadata": {
        "id": "Nkk4IDEWv3IK",
        "colab": {
          "base_uri": "https://localhost:8080/"
        },
        "outputId": "c7baa16f-0ecd-4a4a-97f7-05c2a9528f59"
      },
      "execution_count": null,
      "outputs": [
        {
          "output_type": "execute_result",
          "data": {
            "text/plain": [
              "0.4292"
            ]
          },
          "metadata": {},
          "execution_count": 11
        }
      ]
    }
  ]
}